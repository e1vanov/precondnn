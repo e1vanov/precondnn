{
 "cells": [
  {
   "cell_type": "markdown",
   "id": "1c4e5d71",
   "metadata": {},
   "source": [
    "# Paths"
   ]
  },
  {
   "cell_type": "code",
   "execution_count": 1,
   "id": "0542c6aa",
   "metadata": {},
   "outputs": [],
   "source": [
    "UTILS_PATH = '../../../src/utils'"
   ]
  },
  {
   "cell_type": "markdown",
   "id": "daf5d4b0",
   "metadata": {},
   "source": [
    "# Imports "
   ]
  },
  {
   "cell_type": "code",
   "execution_count": 2,
   "id": "09f3d139",
   "metadata": {},
   "outputs": [],
   "source": [
    "import sys\n",
    "sys.path.append(UTILS_PATH)"
   ]
  },
  {
   "cell_type": "code",
   "execution_count": 3,
   "id": "a6113dde",
   "metadata": {},
   "outputs": [],
   "source": [
    "from my_loss import GershgorinPolyRegressionLoss"
   ]
  },
  {
   "cell_type": "code",
   "execution_count": 4,
   "id": "f284de2a",
   "metadata": {},
   "outputs": [],
   "source": [
    "import numpy as np\n",
    "import matplotlib.pyplot as plt\n",
    "\n",
    "# Torch\n",
    "import torch\n",
    "import torch.nn as nn\n",
    "import torch.optim as optim\n",
    "from torch.utils.data import Dataset, DataLoader\n",
    "\n",
    "# Logging\n",
    "import wandb\n",
    "from tqdm import tqdm"
   ]
  },
  {
   "cell_type": "code",
   "execution_count": 5,
   "id": "45502ea7",
   "metadata": {},
   "outputs": [
    {
     "data": {
      "text/plain": [
       "'cpu'"
      ]
     },
     "execution_count": 5,
     "metadata": {},
     "output_type": "execute_result"
    }
   ],
   "source": [
    "if torch.cuda.is_available():\n",
    "    device = 'cuda:0'\n",
    "else:\n",
    "    device = 'cpu'\n",
    "device"
   ]
  },
  {
   "cell_type": "markdown",
   "id": "46cb3699",
   "metadata": {},
   "source": [
    "# Data"
   ]
  },
  {
   "cell_type": "code",
   "execution_count": 6,
   "id": "db156870",
   "metadata": {},
   "outputs": [],
   "source": [
    "ds_path = '../../../datasets/ds02'"
   ]
  },
  {
   "cell_type": "code",
   "execution_count": 7,
   "id": "6ac72e5d",
   "metadata": {},
   "outputs": [],
   "source": [
    "X_train = torch.utils.data.TensorDataset(torch.load(ds_path + '/train.pt').type(torch.float).to(device))\n",
    "X_valid = torch.utils.data.TensorDataset(torch.load(ds_path + '/test.pt').type(torch.float).to(device))"
   ]
  },
  {
   "cell_type": "code",
   "execution_count": 8,
   "id": "ca915a9b",
   "metadata": {},
   "outputs": [],
   "source": [
    "train_dataloader = DataLoader(X_train, batch_size=32, shuffle=True, drop_last=True)\n",
    "valid_dataloader = DataLoader(X_valid, batch_size=32, shuffle=False)"
   ]
  },
  {
   "cell_type": "markdown",
   "id": "c2cd857c",
   "metadata": {},
   "source": [
    "# Spectrum drawer"
   ]
  },
  {
   "cell_type": "code",
   "execution_count": 9,
   "id": "f3d3f165",
   "metadata": {},
   "outputs": [],
   "source": [
    "from spectrum_drawers import draw_spectrum"
   ]
  },
  {
   "cell_type": "code",
   "execution_count": 10,
   "id": "822ce117",
   "metadata": {},
   "outputs": [],
   "source": [
    "@torch.no_grad()\n",
    "def draw_random_spectrums(net, val_ds, h=3, w=3, mode='eye_min_t_c_inv', path='./spectrum.svg', indices=None):\n",
    "    \n",
    "    if indices is None:\n",
    "        indices = np.random.choice(len(val_ds), h * w, replace=False)\n",
    "    \n",
    "    assert len(indices) == h * w\n",
    "        \n",
    "    input_data = val_ds[indices][0]\n",
    "\n",
    "    net.eval()\n",
    "    output_data = net(input_data)\n",
    "    \n",
    "    input_data = input_data.cpu().detach().numpy()\n",
    "    output_data = output_data.cpu().detach().numpy()\n",
    "    \n",
    "    draw_spectrum(input_data, output_data, h, w, mode, path)"
   ]
  },
  {
   "cell_type": "markdown",
   "id": "5e348011",
   "metadata": {},
   "source": [
    "# Model"
   ]
  },
  {
   "cell_type": "code",
   "execution_count": 11,
   "id": "68485af7",
   "metadata": {},
   "outputs": [],
   "source": [
    "class MyPerceptronFD(nn.Module):\n",
    "    \n",
    "    def __init__(self, dim=64):\n",
    "        \n",
    "        super().__init__()\n",
    "        self.dim = dim\n",
    "        \n",
    "        self.fc1 = nn.Linear(dim, 2 * dim)\n",
    "        self.ac1 = nn.ReLU()\n",
    "        \n",
    "        self.fc2 = nn.Linear(2 * dim, 2 * dim)\n",
    "        self.ac2 = nn.ReLU()\n",
    "        \n",
    "        self.fc3 = nn.Linear(2 * dim, 2 * dim)\n",
    "        self.ac3 = nn.ReLU()\n",
    "        \n",
    "        self.fc4 = nn.Linear(2 * dim, dim)\n",
    "        \n",
    "    def forward(self, x):\n",
    "        \n",
    "        x = self.ac1(self.fc1(x))\n",
    "        x = self.ac2(self.fc2(x))\n",
    "        x = self.ac3(self.fc3(x))\n",
    "        \n",
    "        return self.fc4(x)"
   ]
  },
  {
   "cell_type": "markdown",
   "id": "9905558e",
   "metadata": {},
   "source": [
    "# Train loop"
   ]
  },
  {
   "cell_type": "code",
   "execution_count": 12,
   "id": "f824eb78",
   "metadata": {},
   "outputs": [],
   "source": [
    "val_indices = np.random.choice(len(X_valid), 4 * 4, replace=False)"
   ]
  },
  {
   "cell_type": "code",
   "execution_count": 13,
   "id": "523a02b6",
   "metadata": {},
   "outputs": [],
   "source": [
    "@torch.no_grad()\n",
    "def evaluate(net, \n",
    "             model_name,\n",
    "             epoch_num, \n",
    "             device):\n",
    "    \n",
    "    net.eval()\n",
    "    draw_random_spectrums(net, X_valid, 4, 4, \n",
    "                          mode='t_c_inv',\n",
    "                          path=f'./{model_name}/spectrum_epoch{epoch_num}.svg', \n",
    "                          indices=val_indices)\n",
    "\n",
    "def train(epoch_num, \n",
    "          net, \n",
    "          optimizer, \n",
    "          criterion,\n",
    "          scheduler,\n",
    "          train_dataloader, \n",
    "          valid_dataloader, \n",
    "          device, \n",
    "          name,\n",
    "          model_name):\n",
    "\n",
    "    #wandb.init(project=\"loss_choice_02\", name=name)\n",
    "    global_step = 0\n",
    "    net = net.to(device)\n",
    "\n",
    "    iters_per_epoch = len(train_dataloader)\n",
    "\n",
    "    for epoch in tqdm(range(epoch_num)):\n",
    "        \n",
    "        avg_valid_eig_module_pred  = evaluate(net, model_name, epoch, device)\n",
    "                \n",
    "        net.train()\n",
    "        \n",
    "        for inputs in train_dataloader:\n",
    "            \n",
    "            inputs = inputs[0].to(device)\n",
    "            \n",
    "            outputs = net(inputs)\n",
    "            \n",
    "            loss = criterion(inputs, outputs)\n",
    "            loss.backward()\n",
    "            \n",
    "            optimizer.step()\n",
    "            \n",
    "            #wandb.log({\"train/loss\": loss.item()}, step=global_step)\n",
    "\n",
    "            global_step += 1\n",
    "            \n",
    "        scheduler.step()\n",
    "\n",
    "    wandb.finish()"
   ]
  },
  {
   "cell_type": "markdown",
   "id": "914f9519",
   "metadata": {},
   "source": [
    "# GershgorinPolyRegressionLoss"
   ]
  },
  {
   "cell_type": "code",
   "execution_count": 14,
   "id": "9a5dfa93",
   "metadata": {},
   "outputs": [],
   "source": [
    "net = MyPerceptronFD(64)\n",
    "\n",
    "criterion = GershgorinPolyRegressionLoss(distr=lambda: 2,\n",
    "                                         rad_num=10, arg_num=5, \n",
    "                                         alpha=1., beta=0.,\n",
    "                                         strategy='exact',\n",
    "                                         lambda_reg=1e-3,\n",
    "                                         approx_lr=1e-6,\n",
    "                                         num_steps=30)\n",
    "\n",
    "optimizer = optim.Adam(net.parameters(), lr=1e-3)\n",
    "scheduler = optim.lr_scheduler.ExponentialLR(optimizer, gamma=0.95)"
   ]
  },
  {
   "cell_type": "code",
   "execution_count": null,
   "id": "7f7cd334",
   "metadata": {
    "scrolled": true
   },
   "outputs": [
    {
     "name": "stderr",
     "output_type": "stream",
     "text": [
      "\r",
      "  0%|                              | 0/50 [00:00<?, ?it/s]"
     ]
    },
    {
     "name": "stdout",
     "output_type": "stream",
     "text": [
      "torch.Size([32, 3200, 2]) torch.Size([32, 3200])\n",
      "3 0.999538779258728 0.8102387189865112\n"
     ]
    }
   ],
   "source": [
    "train(\n",
    "    epoch_num=50,\n",
    "    net=net,\n",
    "    optimizer=optimizer,\n",
    "    criterion=criterion,\n",
    "    scheduler=scheduler,\n",
    "    train_dataloader=train_dataloader,\n",
    "    valid_dataloader=valid_dataloader,\n",
    "    device=device,\n",
    "    name=\"GershgorinPolyRegressionLoss\",\n",
    "    model_name=\"gershgorinpolyregressionloss_model\")"
   ]
  },
  {
   "cell_type": "code",
   "execution_count": null,
   "id": "b1fd1624",
   "metadata": {},
   "outputs": [],
   "source": [
    "torch.save(net.state_dict(), './gershgorinpolyregressionloss_model/model.pt')"
   ]
  }
 ],
 "metadata": {
  "kernelspec": {
   "display_name": "Python 3 (ipykernel)",
   "language": "python",
   "name": "python3"
  },
  "language_info": {
   "codemirror_mode": {
    "name": "ipython",
    "version": 3
   },
   "file_extension": ".py",
   "mimetype": "text/x-python",
   "name": "python",
   "nbconvert_exporter": "python",
   "pygments_lexer": "ipython3",
   "version": "3.11.5"
  }
 },
 "nbformat": 4,
 "nbformat_minor": 5
}
